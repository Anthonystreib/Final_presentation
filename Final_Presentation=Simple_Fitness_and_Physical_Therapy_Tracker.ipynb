{
 "cells": [
  {
   "cell_type": "code",
   "execution_count": null,
   "id": "278fdff1",
   "metadata": {},
   "outputs": [],
   "source": [
    "class FitnessTracker:\n",
    "    def __init__(self, height, weight, duration, workout_type):\n",
    "        self.height = height\n",
    "        self.weight = weight\n",
    "        self.duration = duration\n",
    "        self.workout_type = workout_type\n",
    "\n",
    "    def calculate_calories_burned(self):\n",
    "        if self.workout_type == \"walking\":\n",
    "            calories_per_minute = 5\n",
    "        elif self.workout_type == \"running\":\n",
    "            calories_per_minute = 10\n",
    "        elif self.workout_type == \"biking\":\n",
    "            calories_per_minute = 8\n",
    "        else:\n",
    "            raise ValueError(\"Invalid workout type\")\n",
    "\n",
    "        total_calories_burned = calories_per_minute * self.duration\n",
    "        return total_calories_burned\n",
    "\n",
    "    def provide_recovery_options(self, pain_level):\n",
    "        if pain_level >= 1 and pain_level <= 2:\n",
    "            recovery_options = \"Do nothing, just relax\"\n",
    "        elif pain_level >= 3 and pain_level <= 4:\n",
    "            recovery_options = \"Apply ice\"\n",
    "        elif pain_level >= 5 and pain_level <= 6:\n",
    "            recovery_options = \"Foam roll\"\n",
    "        elif pain_level >= 7 and pain_level <= 8:\n",
    "            recovery_options = \"Take a salt bath\"\n",
    "        elif pain_level >= 9 and pain_level <= 10:\n",
    "            recovery_options = \"Foam roll, take a salt bath, and limit activity\"\n",
    "        else:\n",
    "            raise ValueError(\"Invalid pain level\")\n",
    "\n",
    "        return recovery_options\n",
    "\n",
    "\n",
    "height = float(input(\"Enter your height in inches: \"))\n",
    "weight = float(input(\"Enter your weight in pounds: \"))\n",
    "duration = int(input(\"Enter the duration of your workout in minutes: \"))\n",
    "workout_type = input(\"Enter the type of workout (walking, running, or biking): \")\n",
    "\n",
    "tracker = FitnessTracker(height, weight, duration, workout_type)\n",
    "calories_burned = tracker.calculate_calories_burned()\n",
    "print(\"Total calories burned:\", calories_burned)\n",
    "\n",
    "pain_level = int(input(\"On a scale of 1 to 10, rate your pain level: \"))\n",
    "recovery_options = tracker.provide_recovery_options(pain_level)\n",
    "print(\"Recovery options:\", recovery_options)"
   ]
  },
  {
   "cell_type": "code",
   "execution_count": null,
   "id": "77a1c1a4",
   "metadata": {},
   "outputs": [],
   "source": []
  }
 ],
 "metadata": {
  "kernelspec": {
   "display_name": "Python 3 (ipykernel)",
   "language": "python",
   "name": "python3"
  },
  "language_info": {
   "codemirror_mode": {
    "name": "ipython",
    "version": 3
   },
   "file_extension": ".py",
   "mimetype": "text/x-python",
   "name": "python",
   "nbconvert_exporter": "python",
   "pygments_lexer": "ipython3",
   "version": "3.11.4"
  }
 },
 "nbformat": 4,
 "nbformat_minor": 5
}
